{
 "cells": [
  {
   "cell_type": "code",
   "execution_count": 1,
   "metadata": {},
   "outputs": [
    {
     "name": "stdout",
     "output_type": "stream",
     "text": [
      "desserts\n"
     ]
    }
   ],
   "source": [
    "# encoding: utf-8\n",
    "\n",
    "\"\"\"\n",
    "00. 文字列の逆順\n",
    "文字列\"stressed\"の文字を逆に（末尾から先頭に向かって）並べた文字列を得よ．\n",
    "\"\"\"\n",
    "\n",
    "print \"stressed\"[::-1]\n"
   ]
  },
  {
   "cell_type": "code",
   "execution_count": 2,
   "metadata": {},
   "outputs": [
    {
     "name": "stdout",
     "output_type": "stream",
     "text": [
      "パトカー\n"
     ]
    }
   ],
   "source": [
    "# encoding: utf-8\n",
    "\n",
    "\"\"\"\n",
    "01. 「パタトクカシーー」\n",
    "「パタトクカシーー」という文字列の1,3,5,7文字目を取り出して連結した文字列を得よ．\n",
    "\"\"\"\n",
    "\n",
    "print u\"パタトクカシーー\"[::2]\n"
   ]
  },
  {
   "cell_type": "code",
   "execution_count": 3,
   "metadata": {},
   "outputs": [
    {
     "name": "stdout",
     "output_type": "stream",
     "text": [
      "パタトクカシーー\n"
     ]
    }
   ],
   "source": [
    "# encoding: utf-8\n",
    "\n",
    "\"\"\"\n",
    "02. 「パトカー」＋「タクシー」＝「パタトクカシーー」\n",
    "「パトカー」＋「タクシー」の文字を先頭から交互に連結して文字列「パタトクカシーー」を得よ．\n",
    "\"\"\"\n",
    "\n",
    "p = u\"パトカー\"\n",
    "t = u\"タクシー\"\n",
    "pt = u\"\"\n",
    "\n",
    "for i, j in zip(p, t):\n",
    "    pt = pt + i + j\n",
    "\n",
    "print pt\n"
   ]
  },
  {
   "cell_type": "code",
   "execution_count": 4,
   "metadata": {},
   "outputs": [
    {
     "name": "stdout",
     "output_type": "stream",
     "text": [
      "{1: 'H', 2: 'He', 3: 'Li', 4: 'Be', 5: 'B', 6: 'C', 7: 'N', 8: 'O', 9: 'F', 10: 'Ne', 11: 'Na', 12: 'Mi', 13: 'Al', 14: 'Si', 15: 'P', 16: 'S', 17: 'Cl', 18: 'Ar', 19: 'K', 20: 'Ca'}\n"
     ]
    }
   ],
   "source": [
    "# encoding: utf-8\n",
    "\n",
    "\"\"\"\n",
    "04. 元素記号\n",
    "\"Hi He Lied Because Boron Could Not Oxidize Fluorine.\" \\\n",
    "\" New Nations Might Also Sign Peace Security Clause.\" \\\n",
    "\" Arthur King Can.\"\n",
    "という文を単語に分解し，1, 5, 6, 7, 8, 9, 15, 16, 19番目の単語は先頭の1文字，それ以外の単語は先頭に2文字を取り出し，\n",
    "取り出した文字列から単語の位置（先頭から何番目の単語か）への連想配列（辞書型もしくはマップ型）を作成せよ．\n",
    "\"\"\"\n",
    "\n",
    "sentence = \"Hi He Lied Because Boron Could Not Oxidize Fluorine.\" \\\n",
    "           \" New Nations Might Also Sign Peace Security Clause.\" \\\n",
    "           \" Arthur King Can.\"\n",
    "number = [1, 5, 6, 7, 8, 9, 15, 16, 19]\n",
    "sentence = sentence.replace(\".\", \"\")\n",
    "words = sentence.split()\n",
    "dic = {}\n",
    "\n",
    "for index, word in enumerate(words):\n",
    "    if index + 1 in number:\n",
    "        pos = 1\n",
    "    else:\n",
    "        pos = 2\n",
    "    dic.update({index + 1: word[:pos]})\n",
    "\n",
    "print dic\n"
   ]
  },
  {
   "cell_type": "code",
   "execution_count": 5,
   "metadata": {},
   "outputs": [
    {
     "name": "stdout",
     "output_type": "stream",
     "text": [
      "[['I', 'am'], ['am', 'an'], ['an', 'NLPer']]\n"
     ]
    }
   ],
   "source": [
    "# encoding: utf-8\n",
    "\n",
    "\"\"\"\n",
    "05. n-gram\n",
    "与えられたシーケンス（文字列やリストなど）からn-gramを作る関数を作成せよ．この関数を用い，\n",
    "\"I am an NLPer\"という文から単語bi-gram，文字bi-gramを得よ．\n",
    "\"\"\"\n",
    "\n",
    "\n",
    "def n_gram(n, words):\n",
    "    count = len(words) - n + 1\n",
    "    return [words[i:i + n] for i in range(0, count)]\n",
    "\n",
    "sentence = \"I am an NLPer\"\n",
    "sentence = sentence.split()\n",
    "\n",
    "print n_gram(n=2, words=sentence)\n"
   ]
  },
  {
   "cell_type": "code",
   "execution_count": 6,
   "metadata": {},
   "outputs": [
    {
     "name": "stdout",
     "output_type": "stream",
     "text": [
      "Xの集合:['ad', 'di', 'is', 'ap', 'pa', 'ra', 'ar', 'se']\n",
      "Yの集合:['gr', 'ag', 'ap', 'pa', 'ra', 'ph', 'ar']\n",
      "XとYの和集合:['ad', 'ag', 'di', 'is', 'ap', 'pa', 'ra', 'ph', 'ar', 'se', 'gr']\n",
      "XとYの積集合:['ap', 'pa', 'ar', 'ra']\n",
      "XとYの差集合:['is', 'ad', 'se', 'di']\n",
      "seがxの中に含まれる\n",
      "seがyの中に含まれない\n"
     ]
    }
   ],
   "source": [
    "# encoding: utf-8\n",
    "\n",
    "\"\"\"\n",
    "06. 集合\n",
    "\"paraparaparadise\"と\"paragraph\"に含まれる文字bi-gramの集合を，\n",
    "それぞれ, XとYとして求め，XとYの和集合，積集合，差集合を求めよ．\n",
    "さらに，'se'というbi-gramがXおよびYに含まれるかどうかを調べよ．\n",
    "\"\"\"\n",
    "\n",
    "\n",
    "def n_gram(n, words):\n",
    "    count = len(words) - n + 1\n",
    "    return [words[i:i + n] for i in range(0, count)]\n",
    "\n",
    "\n",
    "word_1 = \"paraparaparadise\"\n",
    "word_2 = \"paragraph\"\n",
    "\n",
    "x = set(n_gram(2, word_1))\n",
    "y = set(n_gram(2, word_2))\n",
    "\n",
    "print u\"Xの集合:\" + str(list(x))\n",
    "print u\"Yの集合:\" + str(list(y))\n",
    "\n",
    "print u\"XとYの和集合:\" + str(list(x | y))\n",
    "print u\"XとYの積集合:\" + str(list(x & y))\n",
    "print u\"XとYの差集合:\" + str(list(x - y))\n",
    "\n",
    "if 'se' in x:\n",
    "    print u\"seがxの中に含まれる\"\n",
    "else:\n",
    "    print u\"seがxの中に含まれない\"\n",
    "\n",
    "if 'se' in y:\n",
    "    print u\"seがyの中に含まれる\"\n",
    "else:\n",
    "    print u\"seがyの中に含まれない\"\n"
   ]
  },
  {
   "cell_type": "code",
   "execution_count": 7,
   "metadata": {},
   "outputs": [
    {
     "name": "stdout",
     "output_type": "stream",
     "text": [
      "12時の気温は22.4\n"
     ]
    }
   ],
   "source": [
    "# encoding: utf-8\n",
    "\n",
    "\"\"\"\n",
    "07. テンプレートによる文生成\n",
    "引数x, y, zを受け取り「x時のyはz」という文字列を返す関数を実装せよ．さらに，x=12, y=\"気温\", z=22.4として，実行結果を確認せよ．\n",
    "\"\"\"\n",
    "\n",
    "\n",
    "def template(x, y, z):\n",
    "    return u\"%s時の%sは%s\" % (x, y, z)\n",
    "\n",
    "print template(x=12, y=u\"気温\", z=22.4)\n"
   ]
  },
  {
   "cell_type": "code",
   "execution_count": 8,
   "metadata": {},
   "outputs": [
    {
     "name": "stdout",
     "output_type": "stream",
     "text": [
      "103118104103 110118104104122116118.\n"
     ]
    }
   ],
   "source": [
    "# encoding: utf-8\n",
    "\n",
    "\"\"\"\n",
    "08. 暗号文\n",
    "与えられた文字列の各文字を，以下の仕様で変換する関数cipherを実装せよ．\n",
    "\n",
    "英小文字ならば(219 - 文字コード)の文字に置換\n",
    "その他の文字はそのまま出力\n",
    "この関数を用い，英語のメッセージを暗号化・復号化せよ．\n",
    "\"\"\"\n",
    "\n",
    "\n",
    "def cipher(message):\n",
    "    encryption = \"\"\n",
    "    for character in message:\n",
    "        if character.islower():\n",
    "            encryption += str(219 - ord(character))\n",
    "        else:\n",
    "            encryption += character\n",
    "\n",
    "    return encryption\n",
    "\n",
    "if __name__ == '__main__':\n",
    "    text = \"test message.\"\n",
    "    print cipher(text)\n"
   ]
  },
  {
   "cell_type": "code",
   "execution_count": 9,
   "metadata": {},
   "outputs": [
    {
     "name": "stdout",
     "output_type": "stream",
     "text": [
      "I counld't beevlie that I culod aulcltay uarnentsdd wthaI was rnaeidg : the penamhenol pewor of the hmaun mind .\n"
     ]
    }
   ],
   "source": [
    "# encoding: utf-8\n",
    "\n",
    "\"\"\"\n",
    "09. Typoglycemia\n",
    "スペースで区切られた単語列に対して，各単語の先頭と末尾の文字は残し，それ以外の文字の順序をランダムに並び替えるプログラムを作成せよ．\n",
    "ただし，長さが４以下の単語は並び替えないこととする．\n",
    "適当な英語の文\n",
    "（例えば\"I couldn't believe that I could actually understand what\" \\\n",
    "I was reading : the phenomenal power of the human mind .\"）を与え，\n",
    "その実行結果を確認せよ．\n",
    "\"\"\"\n",
    "\n",
    "import random\n",
    "\n",
    "sentence = \"I couldn't believe that I could actually understand what\" \\\n",
    "           \"I was reading : the phenomenal power of the human mind .\"\n",
    "sentence = sentence.split()\n",
    "\n",
    "random_text = []\n",
    "\n",
    "for word in sentence:\n",
    "    length = len(word)\n",
    "\n",
    "    # 単語列の並び替え\n",
    "    if length > 4:\n",
    "\n",
    "        # 先頭と末尾のみ残して、間のインデックスの順番をランダムに変更\n",
    "        last_index = length - 1\n",
    "        sort_number = range(1, last_index)\n",
    "        random.shuffle(sort_number)\n",
    "        sort_number = [0] + sort_number + [last_index]\n",
    "        random_word = \"\"\n",
    "\n",
    "        for i in sort_number:\n",
    "            random_word += word[i]\n",
    "\n",
    "        random_text.append(random_word)\n",
    "\n",
    "    else:\n",
    "        random_text.append(word)\n",
    "\n",
    "print \" \".join(random_text)\n"
   ]
  }
 ],
 "metadata": {
  "kernelspec": {
   "display_name": "Python 2",
   "language": "python",
   "name": "python2"
  },
  "language_info": {
   "codemirror_mode": {
    "name": "ipython",
    "version": 2
   },
   "file_extension": ".py",
   "mimetype": "text/x-python",
   "name": "python",
   "nbconvert_exporter": "python",
   "pygments_lexer": "ipython2",
   "version": "2.7.13"
  }
 },
 "nbformat": 4,
 "nbformat_minor": 2
}
